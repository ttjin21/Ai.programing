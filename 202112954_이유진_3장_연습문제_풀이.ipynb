{
  "nbformat": 4,
  "nbformat_minor": 0,
  "metadata": {
    "colab": {
      "provenance": [],
      "authorship_tag": "ABX9TyN3UvIyau5C0ZjfrqI4/YW7",
      "include_colab_link": true
    },
    "kernelspec": {
      "name": "python3",
      "display_name": "Python 3"
    },
    "language_info": {
      "name": "python"
    }
  },
  "cells": [
    {
      "cell_type": "markdown",
      "metadata": {
        "id": "view-in-github",
        "colab_type": "text"
      },
      "source": [
        "<a href=\"https://colab.research.google.com/github/ttjin21/Ai.programing/blob/main/202112954_%EC%9D%B4%EC%9C%A0%EC%A7%84_3%EC%9E%A5_%EC%97%B0%EC%8A%B5%EB%AC%B8%EC%A0%9C_%ED%92%80%EC%9D%B4.ipynb\" target=\"_parent\"><img src=\"https://colab.research.google.com/assets/colab-badge.svg\" alt=\"Open In Colab\"/></a>"
      ]
    },
    {
      "cell_type": "markdown",
      "source": [
        "문제 4.1"
      ],
      "metadata": {
        "id": "c4LEMKBz6rgL"
      }
    },
    {
      "cell_type": "code",
      "execution_count": 1,
      "metadata": {
        "colab": {
          "base_uri": "https://localhost:8080/"
        },
        "id": "tgAKb7Pn6jyo",
        "outputId": "7f49e180-1f53-43cc-d761-7c2f7e3fa6b0"
      },
      "outputs": [
        {
          "output_type": "stream",
          "name": "stdout",
          "text": [
            "2 * 1 = 2\n",
            "2 * 2 = 4\n",
            "2 * 3 = 6\n",
            "2 * 4 = 8\n",
            "2 * 5 = 10\n",
            "2 * 6 = 12\n",
            "2 * 7 = 14\n",
            "2 * 8 = 16\n",
            "2 * 9 = 18\n"
          ]
        }
      ],
      "source": [
        "for i in range(1, 10):\n",
        "    print(f\"2 * {i} = {2 * i}\")"
      ]
    },
    {
      "cell_type": "code",
      "source": [
        "i = 1\n",
        "while i < 10:\n",
        "    print(f\"2 * {i} = {2 * i}\")\n",
        "    i += 1"
      ],
      "metadata": {
        "colab": {
          "base_uri": "https://localhost:8080/"
        },
        "id": "zuOydjhs60fw",
        "outputId": "fe7fdbc4-77a0-4c8e-e308-f6c29be9dfe1"
      },
      "execution_count": 2,
      "outputs": [
        {
          "output_type": "stream",
          "name": "stdout",
          "text": [
            "2 * 1 = 2\n",
            "2 * 2 = 4\n",
            "2 * 3 = 6\n",
            "2 * 4 = 8\n",
            "2 * 5 = 10\n",
            "2 * 6 = 12\n",
            "2 * 7 = 14\n",
            "2 * 8 = 16\n",
            "2 * 9 = 18\n"
          ]
        }
      ]
    },
    {
      "cell_type": "markdown",
      "source": [
        "문제 4.3"
      ],
      "metadata": {
        "id": "iy_zO0QP6xXd"
      }
    },
    {
      "cell_type": "code",
      "source": [
        "for i in range(3):\n",
        "    print('Python ')\n",
        "    print('is ')\n",
        "    print('FUN! ')"
      ],
      "metadata": {
        "colab": {
          "base_uri": "https://localhost:8080/"
        },
        "id": "_t4_8iIH65_g",
        "outputId": "73c681f1-a8a7-4bd4-efe3-67e54fe0ce3d"
      },
      "execution_count": 3,
      "outputs": [
        {
          "output_type": "stream",
          "name": "stdout",
          "text": [
            "Python \n",
            "is \n",
            "FUN! \n",
            "Python \n",
            "is \n",
            "FUN! \n",
            "Python \n",
            "is \n",
            "FUN! \n"
          ]
        }
      ]
    },
    {
      "cell_type": "code",
      "source": [
        "for i in range(3):\n",
        "    print('Python ')\n",
        "    print('is ')\n",
        "print('FUN! ')"
      ],
      "metadata": {
        "colab": {
          "base_uri": "https://localhost:8080/"
        },
        "id": "cawcBVlt683g",
        "outputId": "01e914f1-be11-4982-81cd-a3cfe4fb0866"
      },
      "execution_count": 4,
      "outputs": [
        {
          "output_type": "stream",
          "name": "stdout",
          "text": [
            "Python \n",
            "is \n",
            "Python \n",
            "is \n",
            "Python \n",
            "is \n",
            "FUN! \n"
          ]
        }
      ]
    },
    {
      "cell_type": "code",
      "source": [
        "for i in range(3):\n",
        "    print('Python ')\n",
        "print('is ')\n",
        "print('FUN! ')"
      ],
      "metadata": {
        "colab": {
          "base_uri": "https://localhost:8080/"
        },
        "id": "rW258nZT6_du",
        "outputId": "2f0cf935-628f-414d-a7fd-907f648793d3"
      },
      "execution_count": 5,
      "outputs": [
        {
          "output_type": "stream",
          "name": "stdout",
          "text": [
            "Python \n",
            "Python \n",
            "Python \n",
            "is \n",
            "FUN! \n"
          ]
        }
      ]
    },
    {
      "cell_type": "markdown",
      "source": [
        "문제 4.5\n"
      ],
      "metadata": {
        "id": "Gp8gussy7JfS"
      }
    },
    {
      "cell_type": "code",
      "source": [
        "# 메뉴 안내 출력\n",
        "print(\"맛나 식당에 오신 것을 환영합니다. 메뉴는 다음과 같습니다.\")\n",
        "print(\"1) 햄버거\")\n",
        "print(\"2) 치킨\")\n",
        "print(\"3) 피자\")\n",
        "\n",
        "valid_inputs = ['1', '2', '3']\n",
        "\n",
        "while True:\n",
        "    choice = input(\"메뉴를 선택하세요: \").strip().lower()\n",
        "\n",
        "    if choice in valid_inputs:\n",
        "        break\n",
        "    print(\"메뉴를 다시 입력하세요:\")\n",
        "\n",
        "# 선택한 메뉴 출력\n",
        "if choice == '1':\n",
        "    print(\"햄버거를 선택하였습니다.\")\n",
        "elif choice == '2':\n",
        "    print(\"치킨을 선택하였습니다.\")\n",
        "elif choice == '3':\n",
        "    print(\"피자를 선택하였습니다.\")"
      ],
      "metadata": {
        "colab": {
          "base_uri": "https://localhost:8080/"
        },
        "id": "90RGh3IY7KcV",
        "outputId": "3e2195e6-3688-4063-90e6-cbbf16ccec5d"
      },
      "execution_count": 6,
      "outputs": [
        {
          "output_type": "stream",
          "name": "stdout",
          "text": [
            "맛나 식당에 오신 것을 환영합니다. 메뉴는 다음과 같습니다.\n",
            "1) 햄버거\n",
            "2) 치킨\n",
            "3) 피자\n",
            "메뉴를 선택하세요: 5\n",
            "메뉴를 다시 입력하세요:\n",
            "메뉴를 선택하세요: 6\n",
            "메뉴를 다시 입력하세요:\n",
            "메뉴를 선택하세요: 0\n",
            "메뉴를 다시 입력하세요:\n",
            "메뉴를 선택하세요: 2\n",
            "치킨을 선택하였습니다.\n"
          ]
        }
      ]
    },
    {
      "cell_type": "markdown",
      "source": [
        "문제 4.7"
      ],
      "metadata": {
        "id": "TGkMyOIW7uAU"
      }
    },
    {
      "cell_type": "code",
      "source": [
        "def is_prime(n):\n",
        "    if n < 2:\n",
        "        return False\n",
        "    if n == 2:\n",
        "        return True\n",
        "    if n % 2 == 0:\n",
        "        return False\n",
        "\n",
        "    for i in range(3, int(n**0.5) + 1, 2):\n",
        "        if n % i == 0:\n",
        "            return False\n",
        "    return True\n",
        "\n",
        "n = int(input(\"숫자를 입력하세요: \"))\n",
        "\n",
        "if is_prime(n):\n",
        "    print(f\"{n}는 소수입니다\")\n",
        "else:\n",
        "    print(f\"{n}는 소수가 아닙니다\")"
      ],
      "metadata": {
        "colab": {
          "base_uri": "https://localhost:8080/"
        },
        "id": "95DnQd0b7u7A",
        "outputId": "15ffbd06-b02a-49da-9b2d-39dee7214086"
      },
      "execution_count": 7,
      "outputs": [
        {
          "output_type": "stream",
          "name": "stdout",
          "text": [
            "숫자를 입력하세요: 5\n",
            "5는 소수입니다\n"
          ]
        }
      ]
    },
    {
      "cell_type": "code",
      "source": [
        "def is_prime(n):\n",
        "    if n < 2:\n",
        "        return False\n",
        "    if n == 2:\n",
        "        return True\n",
        "    if n % 2 == 0:\n",
        "        return False\n",
        "\n",
        "    for i in range(3, int(n**0.5) + 1, 2):\n",
        "        if n % i == 0:\n",
        "            return False\n",
        "    return True\n",
        "\n",
        "n = int(input(\"숫자를 입력하세요: \"))\n",
        "\n",
        "if is_prime(n):\n",
        "    print(f\"{n}는 소수입니다\")\n",
        "else:\n",
        "    print(f\"{n}는 소수가 아닙니다\")"
      ],
      "metadata": {
        "colab": {
          "base_uri": "https://localhost:8080/"
        },
        "id": "TjjvPCa477LD",
        "outputId": "ec56783d-cb75-42af-a2f0-ca0e9b4d931f"
      },
      "execution_count": 8,
      "outputs": [
        {
          "output_type": "stream",
          "name": "stdout",
          "text": [
            "숫자를 입력하세요: 9\n",
            "9는 소수가 아닙니다\n"
          ]
        }
      ]
    },
    {
      "cell_type": "markdown",
      "source": [
        "문제 4.9"
      ],
      "metadata": {
        "id": "-2zpirtV8B2n"
      }
    },
    {
      "cell_type": "code",
      "source": [
        "n = int(input(\"숫자를 입력하세요: \"))\n",
        "\n",
        "sum_of_squares = sum(i**2 for i in range(1, n+1))\n",
        "\n",
        "print(f\"결과는 {sum_of_squares}입니다.\")"
      ],
      "metadata": {
        "colab": {
          "base_uri": "https://localhost:8080/"
        },
        "id": "ORF8Z4dK8DK1",
        "outputId": "ad60c8ce-78d3-4d91-cf3c-db87f456d6ff"
      },
      "execution_count": 9,
      "outputs": [
        {
          "output_type": "stream",
          "name": "stdout",
          "text": [
            "숫자를 입력하세요: 5\n",
            "결과는 55입니다.\n"
          ]
        }
      ]
    },
    {
      "cell_type": "markdown",
      "source": [
        "문제 4.11"
      ],
      "metadata": {
        "id": "mTs4_hay8RDz"
      }
    },
    {
      "cell_type": "code",
      "source": [
        "depth = 30\n",
        "day_up = 7\n",
        "night_down = 5\n",
        "position = 0\n",
        "days = 0\n",
        "\n",
        "while True:\n",
        "    days += 1\n",
        "    position += day_up\n",
        "\n",
        "    if position >= depth:\n",
        "        break\n",
        "\n",
        "    position -= night_down\n",
        "\n",
        "print(f\"우물을 탈출하는 데 걸린 날은 {days}일입니다.\")"
      ],
      "metadata": {
        "colab": {
          "base_uri": "https://localhost:8080/"
        },
        "id": "PxBirPwu8R5L",
        "outputId": "4441dbbe-4e23-4b65-e25e-68df00cb6a24"
      },
      "execution_count": 10,
      "outputs": [
        {
          "output_type": "stream",
          "name": "stdout",
          "text": [
            "우물을 탈출하는 데 걸린 날은 13일입니다.\n"
          ]
        }
      ]
    },
    {
      "cell_type": "markdown",
      "source": [
        "문제 4.13\n"
      ],
      "metadata": {
        "id": "LHLM1iNK8h_N"
      }
    },
    {
      "cell_type": "code",
      "source": [
        "def is_armstrong_number(num):\n",
        "  \"\"\"주어진 숫자가 암스트롱 수인지 판별하는 함수\"\"\"\n",
        "  num_str = str(num)\n",
        "  n = len(num_str)\n",
        "  sum_of_powers = sum(int(digit) ** n for digit in num_str)\n",
        "  return num == sum_of_powers\n",
        "\n",
        "def find_armstrong_numbers(start, end):\n",
        "  \"\"\"주어진 범위 내의 암스트롱 수를 찾는 함수\"\"\"\n",
        "  armstrong_numbers = []\n",
        "  for num in range(start, end + 1):\n",
        "    if is_armstrong_number(num):\n",
        "      armstrong_numbers.append(num)\n",
        "  return armstrong_numbers\n",
        "\n",
        "start_num = 100\n",
        "end_num = 999\n",
        "\n",
        "armstrong_numbers = find_armstrong_numbers(start_num, end_num)\n",
        "\n",
        "print(\"세 자리의 암스트롱 수:\", *armstrong_numbers)"
      ],
      "metadata": {
        "colab": {
          "base_uri": "https://localhost:8080/"
        },
        "id": "vm6Rdujq8jQQ",
        "outputId": "461be91b-5a71-4484-e44b-c5081b775fe9"
      },
      "execution_count": 11,
      "outputs": [
        {
          "output_type": "stream",
          "name": "stdout",
          "text": [
            "세 자리의 암스트롱 수: 153 370 371 407\n"
          ]
        }
      ]
    },
    {
      "cell_type": "markdown",
      "source": [
        "문제 4.15"
      ],
      "metadata": {
        "id": "NIkFsj398ozP"
      }
    },
    {
      "cell_type": "code",
      "source": [
        "def simulate_fuel_tank():\n",
        "  \"\"\"자동차 연료 탱크 프로그램을 시뮬레이션하는 함수\"\"\"\n",
        "  fuel_amount = 500\n",
        "\n",
        "  while True:\n",
        "    try:\n",
        "      user_input = input(\"충전 또는 사용한 연료를 +/- 기호와 함께 입력하세요: \")\n",
        "      operation = user_input[0]\n",
        "      fuel_change = int(user_input[1:])\n",
        "\n",
        "      if operation == '+':\n",
        "        fuel_amount += fuel_change\n",
        "      elif operation == '-':\n",
        "        fuel_amount -= fuel_change\n",
        "      else:\n",
        "        print(\"잘못된 입력입니다. +/- 기호와 함께 연료량을 입력하세요.\")\n",
        "        continue\n",
        "\n",
        "      print(\"현재 탱크 양은\", fuel_amount, \"입니다.\")\n",
        "\n",
        "      if fuel_amount < 50:\n",
        "        print(\"경고: 연료가 10% 미만이므로 충전하세요!\")\n",
        "        break\n",
        "\n",
        "    except ValueError:\n",
        "      print(\"잘못된 입력입니다. 숫자만 입력하세요.\")\n",
        "\n",
        "simulate_fuel_tank()"
      ],
      "metadata": {
        "colab": {
          "base_uri": "https://localhost:8080/"
        },
        "id": "gEITHAYr8qGw",
        "outputId": "13c7c24e-3335-4d7d-ea11-040b0bfcff3d"
      },
      "execution_count": 12,
      "outputs": [
        {
          "output_type": "stream",
          "name": "stdout",
          "text": [
            "충전 또는 사용한 연료를 +/- 기호와 함께 입력하세요: +60\n",
            "현재 탱크 양은 560 입니다.\n",
            "충전 또는 사용한 연료를 +/- 기호와 함께 입력하세요: -300\n",
            "현재 탱크 양은 260 입니다.\n",
            "충전 또는 사용한 연료를 +/- 기호와 함께 입력하세요: -220\n",
            "현재 탱크 양은 40 입니다.\n",
            "경고: 연료가 10% 미만이므로 충전하세요!\n"
          ]
        }
      ]
    }
  ]
}